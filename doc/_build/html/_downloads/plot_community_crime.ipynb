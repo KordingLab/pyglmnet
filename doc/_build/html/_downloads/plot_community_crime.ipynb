{
  "nbformat_minor": 0, 
  "nbformat": 4, 
  "cells": [
    {
      "execution_count": null, 
      "cell_type": "code", 
      "source": [
        "%matplotlib inline"
      ], 
      "outputs": [], 
      "metadata": {
        "collapsed": false
      }
    }, 
    {
      "source": [
        "\n# Communities and Crime - scikit-learn and pyglmnet\n\n\nThis is a real application example comparing pyglmnet against scikit using R_2 measure and mean squared error.\nThe used dataset was preprocessed fom the original dataset (it can be found at: http://archive.ics.uci.edu/ml/datasets/Communities+and+Crime)\n\nA quick view to the dataset information:\n\"Many variables are included so that algorithms that select or learn weights for attributes could be tested.\nHowever, clearly unrelated attributes were not included; attributes were picked if there was any plausible connection\nto crime (N=122), plus the attribute to be predicted (Per Capita Violent Crimes). The variables included in the dataset\ninvolve the community, such as the percent of the population considered urban, and the median family income, and\ninvolving law enforcement, such as per capita number of police officers, and percent of officers assigned to drug units.\"\n\nWe've tried to use the same values as possible for similiar parameters used by the two Classes.\n\n"
      ], 
      "cell_type": "markdown", 
      "metadata": {}
    }, 
    {
      "execution_count": null, 
      "cell_type": "code", 
      "source": [
        "# Author: Vinicius Marques <vini.type@gmail.com>\n# License: MIT"
      ], 
      "outputs": [], 
      "metadata": {
        "collapsed": false
      }
    }, 
    {
      "source": [
        "First, we can import useful libraries that we will use it later on\n\n"
      ], 
      "cell_type": "markdown", 
      "metadata": {}
    }, 
    {
      "execution_count": null, 
      "cell_type": "code", 
      "source": [
        "import matplotlib.pyplot as plt\nimport pandas as pd\nfrom sklearn.metrics import r2_score, mean_squared_error\nimport numpy as np\nfrom pyglmnet import GLM\nfrom sklearn.linear_model import ElasticNet\nfrom sklearn.cross_validation import train_test_split"
      ], 
      "outputs": [], 
      "metadata": {
        "collapsed": false
      }
    }, 
    {
      "execution_count": null, 
      "cell_type": "code", 
      "source": [
        "df = pd.read_csv('community_crime.csv', header=0)\nX = df.values # it returns a numpy array\nn_samples, n_features = X.shape\n\n# att128 is the labeled attribute and it's defined as:\n#   ViolentCrimesPerPop: total number of violent crimes per 100K popuation (numeric - decimal) GOAL attribute (to be predicted)\nX, y = np.array(df.drop(['att128'], axis=1)), np.array(df['att128'])\n\nX_train, X_test, y_train, y_test = train_test_split(X, y, test_size=0.25, random_state=0)"
      ], 
      "outputs": [], 
      "metadata": {
        "collapsed": false
      }
    }, 
    {
      "source": [
        "pyglmnet\n\n"
      ], 
      "cell_type": "markdown", 
      "metadata": {}
    }, 
    {
      "execution_count": null, 
      "cell_type": "code", 
      "source": [
        "# use the default value for reg_lambda\nglm = GLM(distr='gaussian', alpha=0.05, learning_rate=2e-1, verbose=False, max_iter=1000, tol=1e-3)\n\nglm.fit(X_train, y_train)\ny_pred_glm = glm[-1].predict(X_test)\nr2_score_glm = r2_score(y_test, y_pred_glm)\nprint(\"r^2 on test data using pyglmnet : %f\" % r2_score_glm)\nmean_square_score_glm = mean_squared_error(y_test, y_pred_glm)\nprint(\"mean square error on test data using pyglmnet : %f\" % mean_square_score_glm)"
      ], 
      "outputs": [], 
      "metadata": {
        "collapsed": false
      }
    }, 
    {
      "source": [
        "scikit-learn\n\n"
      ], 
      "cell_type": "markdown", 
      "metadata": {}
    }, 
    {
      "execution_count": null, 
      "cell_type": "code", 
      "source": [
        "alpha = glm[-1].reg_lambda\n\n# l1_ratio is similar to alpha in GLM class\n# alpha is similar to reg_lambda in GLM class\nenet = ElasticNet(alpha=alpha, l1_ratio=0.05, max_iter=100)\ny_pred_enet = enet.fit(X_train, y_train).predict(X_test)\nr2_score_enet = r2_score(y_test, y_pred_enet)\nprint(\"r^2 on test data using sklearn : %f\" % r2_score_enet)\nmean_square_score_enet = mean_squared_error(y_test, y_pred_enet)\nprint(\"mean square error on test data using sklearn : %f\" % mean_square_score_enet)"
      ], 
      "outputs": [], 
      "metadata": {
        "collapsed": false
      }
    }, 
    {
      "source": [
        "Plot the values of the test dataset, the predicted values computed by scikit and pyglmnet\n\n"
      ], 
      "cell_type": "markdown", 
      "metadata": {}
    }, 
    {
      "execution_count": null, 
      "cell_type": "code", 
      "source": [
        "#plotting the predictions\nplt.plot(y_test, label='real testing values')\nplt.plot(y_pred_enet, 'r', label='scikit prediction')\nplt.plot(y_pred_glm, 'g', label='pyglmnet prediction')\nplt.xlabel('sample')\nplt.ylabel('predicted value')\nplt.legend(bbox_to_anchor=(0., 1.02, 1., .102), loc=1, ncol=2, borderaxespad=0.)\nplt.show()"
      ], 
      "outputs": [], 
      "metadata": {
        "collapsed": false
      }
    }
  ], 
  "metadata": {
    "kernelspec": {
      "display_name": "Python 2", 
      "name": "python2", 
      "language": "python"
    }, 
    "language_info": {
      "mimetype": "text/x-python", 
      "nbconvert_exporter": "python", 
      "name": "python", 
      "file_extension": ".py", 
      "version": "2.7.12", 
      "pygments_lexer": "ipython2", 
      "codemirror_mode": {
        "version": 2, 
        "name": "ipython"
      }
    }
  }
}