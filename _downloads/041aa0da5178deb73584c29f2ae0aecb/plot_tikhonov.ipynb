{
  "cells": [
    {
      "cell_type": "code",
      "execution_count": null,
      "metadata": {
        "collapsed": false
      },
      "outputs": [],
      "source": [
        "%matplotlib inline"
      ]
    },
    {
      "cell_type": "markdown",
      "metadata": {},
      "source": [
        "\n# Tikhonov Regularization\n\n\nTikhonov regularization is a generalized form of L2-regularization. It allows\nus to articulate our prior knowlege about correlations between\ndifferent predictors with a multivariate Gaussian prior. Here, we demonstrate\nhow pyglmnet's Tikhonov regularizer can be used to estimate spatiotemporal\nreceptive fields (RFs) from neural data.\n\nNeurons in many brain areas, including the frontal eye fields (FEF) have RFs,\ndefined as regions in the visual field where visual stimuli are most likely\nto result in spiking activity.\n\nThese spatial RFs need not be static, they can vary in time in a\nsystematic way. We want to characterize how such spatiotemporal RFs (STRFs)\nremap from one fixation to the next. Remapping is a phenomenon where\nthe RF of a neuron shifts to process visual information from the subsequent\nfixation, prior to the onset of the saccade. The dynamics of this shift\nfrom the \"current\" to the \"future\" RF is an active area of research.\n\nWith Tikhonov regularization, we can specify a prior covariance matrix\nto articulate our belief that parameters encoding neighboring points\nin space and time are correlated.\n\nThe unpublished data are courtesy of Daniel Wood and Mark Segraves,\nDepartment of Neurobiology, Northwestern University.\n"
      ]
    },
    {
      "cell_type": "code",
      "execution_count": null,
      "metadata": {
        "collapsed": false
      },
      "outputs": [],
      "source": [
        "# Author: Pavan Ramkumar <pavan.ramkumar@gmail.com>\n# License: MIT"
      ]
    },
    {
      "cell_type": "markdown",
      "metadata": {},
      "source": [
        "Imports\n\n"
      ]
    },
    {
      "cell_type": "code",
      "execution_count": null,
      "metadata": {
        "collapsed": false
      },
      "outputs": [],
      "source": [
        "import os.path as op\nimport numpy as np\nimport pandas as pd\n\nfrom pyglmnet import GLMCV\nfrom spykes.ml.strf import STRF\n\nimport matplotlib.pyplot as plt\nfrom tempfile import TemporaryDirectory"
      ]
    },
    {
      "cell_type": "markdown",
      "metadata": {},
      "source": [
        "Download and fetch data files\n\n"
      ]
    },
    {
      "cell_type": "code",
      "execution_count": null,
      "metadata": {
        "collapsed": false
      },
      "outputs": [],
      "source": [
        "from pyglmnet.datasets import fetch_tikhonov_data\n\nwith TemporaryDirectory(prefix=\"tmp_glm-tools\") as temp_dir:\n    dpath = fetch_tikhonov_data(dpath=temp_dir)\n    fixations_df = pd.read_csv(op.join(dpath, 'fixations.csv'))\n    probes_df = pd.read_csv(op.join(dpath, 'probes.csv'))\n    probes_df = pd.read_csv(op.join(dpath, 'probes.csv'))\n    spikes_df = pd.read_csv(op.join(dpath, 'spiketimes.csv'))\n\nspiketimes = np.squeeze(spikes_df.values)"
      ]
    },
    {
      "cell_type": "markdown",
      "metadata": {},
      "source": [
        "Design spatial basis functions\n\n"
      ]
    },
    {
      "cell_type": "code",
      "execution_count": null,
      "metadata": {
        "collapsed": false
      },
      "outputs": [],
      "source": [
        "n_spatial_basis = 36\nn_temporal_basis = 7\nstrf_model = STRF(patch_size=50, sigma=5,\n                  n_spatial_basis=n_spatial_basis,\n                  n_temporal_basis=n_temporal_basis)\nspatial_basis = strf_model.make_gaussian_basis()\nstrf_model.visualize_gaussian_basis(spatial_basis)"
      ]
    },
    {
      "cell_type": "markdown",
      "metadata": {},
      "source": [
        "Design temporal basis functions\n\n"
      ]
    },
    {
      "cell_type": "code",
      "execution_count": null,
      "metadata": {
        "collapsed": false
      },
      "outputs": [],
      "source": [
        "time_points = np.linspace(-100., 100., 10.)\ncenters = [-75., -50., -25., 0, 25., 50., 75.]\ntemporal_basis = strf_model.make_raised_cosine_temporal_basis(\n    time_points=time_points,\n    centers=centers,\n    widths=10. * np.ones(7))\nplt.plot(time_points, temporal_basis)\nplt.show()"
      ]
    },
    {
      "cell_type": "markdown",
      "metadata": {},
      "source": [
        "Design parameters\n\n"
      ]
    },
    {
      "cell_type": "code",
      "execution_count": null,
      "metadata": {
        "collapsed": false
      },
      "outputs": [],
      "source": [
        "# Spatial extent\nn_shape = 50\nn_features = n_spatial_basis\n\n# Window of interest\nwindow = [-100, 100]\n\n# Bin size\nbinsize = 20\n\n# Zero pad bins\nn_zero_bins = int(np.floor((window[1] - window[0]) / binsize / 2))"
      ]
    },
    {
      "cell_type": "markdown",
      "metadata": {},
      "source": [
        "Build design matrix\n\n"
      ]
    },
    {
      "cell_type": "code",
      "execution_count": null,
      "metadata": {
        "collapsed": false
      },
      "outputs": [],
      "source": [
        "bin_template = np.arange(window[0], window[1] + binsize, binsize)\nn_bins = len(bin_template) - 1\n\nprobetimes = probes_df['t_probe'].values\nspatial_features = np.zeros((0, n_features))\nspike_counts = np.zeros((0,))\nfixation_id = np.zeros((0,))\n\n# For each fixation\nfor fx in fixations_df.index[:1000]:\n\n    # Fixation time\n    fixation_time = fixations_df.loc[fx]['t_fix_f']\n\n    this_fixation_spatial_features = np.zeros((n_bins, n_spatial_basis))\n    this_fixation_spikecounts = np.zeros(n_bins)\n    unique_fixation_id = fixations_df.loc[fx]['trialNum_f']\n    unique_fixation_id += 0.01 * fixations_df.loc[fx]['fixNum_f']\n    this_fixation_id = unique_fixation_id * np.ones(n_bins)\n\n    # Look for probes in window of interest relative to fixation\n    probe_ids = np.searchsorted(probetimes,\n                                [fixation_time + window[0] + 0.1,\n                                 fixation_time + window[1] - 0.1])\n\n    # For each such probe\n    for probe_id in range(probe_ids[0], probe_ids[1]):\n\n        # Check if probe lies within spatial region of interest\n        fix_row = fixations_df.loc[fx]['y_curFix_f']\n        fix_col = fixations_df.loc[fx]['x_curFix_f']\n        probe_row = probes_df.loc[probe_id]['y_probe']\n        probe_col = probes_df.loc[probe_id]['x_probe']\n\n        if ((probe_row - fix_row) > -n_shape / 2 and\n            (probe_row - fix_row) < n_shape / 2 and\n            (probe_col - fix_col) > -n_shape / 2 and\n                (probe_col - fix_col) < n_shape / 2):\n\n            # Get probe timestamp relative to fixation\n            probe_time = probes_df.loc[probe_id]['t_probe']\n            probe_bin = np.where(bin_template < (probe_time - fixation_time))\n            probe_bin = probe_bin[0][-1]\n\n            # Define an image based on the relative locations\n            img = np.zeros(shape=(n_shape, n_shape))\n            row = int(-np.round(probe_row - fix_row) + n_shape / 2 - 1)\n            col = int(np.round(probe_col - fix_col) + n_shape / 2 - 1)\n            img[row, col] = 1\n\n            # Compute projection\n            basis_projection = strf_model.project_to_spatial_basis(\n                img, spatial_basis)\n            this_fixation_spatial_features[probe_bin, :] = basis_projection\n\n    # Count spikes in window of interest relative to fixation\n    bins = fixation_time + bin_template\n    searchsorted_idx = np.searchsorted(spiketimes,\n                                       [fixation_time + window[0],\n                                        fixation_time + window[1]])\n    this_fixation_spike_counts = np.histogram(\n        spiketimes[searchsorted_idx[0]:searchsorted_idx[1]], bins)[0]\n\n    # Accumulate\n    fixation_id = np.concatenate((fixation_id, this_fixation_id), axis=0)\n    spatial_features = np.concatenate((spatial_features,\n                                       this_fixation_spatial_features), axis=0)\n    spike_counts = np.concatenate((spike_counts,\n                                   this_fixation_spike_counts), axis=0)\n\n    # Zero pad\n    spatial_features = np.concatenate((\n        spatial_features, np.zeros((n_zero_bins, n_spatial_basis))))\n    fixation_id = np.concatenate((fixation_id, -999. * np.ones(n_zero_bins)))\n\n# Convolve with temporal basis\nfeatures = strf_model.convolve_with_temporal_basis(spatial_features,\n                                                   temporal_basis)\n\n# Remove zeropad\nfeatures = features[fixation_id != -999.]"
      ]
    },
    {
      "cell_type": "markdown",
      "metadata": {},
      "source": [
        "Visualize the distribution of spike counts\n\n"
      ]
    },
    {
      "cell_type": "code",
      "execution_count": null,
      "metadata": {
        "collapsed": false
      },
      "outputs": [],
      "source": [
        "plt.hist(spike_counts, 10)\nplt.show()"
      ]
    },
    {
      "cell_type": "markdown",
      "metadata": {},
      "source": [
        "Plot a few rows of the design matrix\n\n"
      ]
    },
    {
      "cell_type": "code",
      "execution_count": null,
      "metadata": {
        "collapsed": false
      },
      "outputs": [],
      "source": [
        "plt.imshow(features[30:150, :], interpolation='none')\nplt.show()"
      ]
    },
    {
      "cell_type": "markdown",
      "metadata": {},
      "source": [
        "Design prior covariance matrix for Tikhonov regularization\n\n"
      ]
    },
    {
      "cell_type": "code",
      "execution_count": null,
      "metadata": {
        "collapsed": false
      },
      "outputs": [],
      "source": [
        "prior_cov = strf_model.design_prior_covariance(\n    sigma_temporal=3.,\n    sigma_spatial=5.)\n\nplt.imshow(prior_cov, cmap='Greys', interpolation='none')\nplt.colorbar()\nplt.show()\n\nnp.shape(prior_cov)"
      ]
    },
    {
      "cell_type": "markdown",
      "metadata": {},
      "source": [
        "Fit models\n\n"
      ]
    },
    {
      "cell_type": "code",
      "execution_count": null,
      "metadata": {
        "collapsed": false
      },
      "outputs": [],
      "source": [
        "from sklearn.model_selection import train_test_split # noqa\n\nXtrain, Xtest, Ytrain, Ytest = train_test_split(\n    features, spike_counts,\n    test_size=0.2,\n    random_state=42)"
      ]
    },
    {
      "cell_type": "code",
      "execution_count": null,
      "metadata": {
        "collapsed": false
      },
      "outputs": [],
      "source": [
        "from pyglmnet import utils # noqa\n\nn_samples = Xtrain.shape[0]\nTau = utils.tikhonov_from_prior(prior_cov, n_samples)\n\nglm = GLMCV(distr='poisson', alpha=0., Tau=Tau, score_metric='pseudo_R2', cv=3)\nglm.fit(Xtrain, Ytrain)\nprint(\"train score: %f\" % glm.score(Xtrain, Ytrain))\nprint(\"test score: %f\" % glm.score(Xtest, Ytest))\nweights = glm.beta_"
      ]
    },
    {
      "cell_type": "markdown",
      "metadata": {},
      "source": [
        "Visualize\n\n"
      ]
    },
    {
      "cell_type": "code",
      "execution_count": null,
      "metadata": {
        "collapsed": false
      },
      "outputs": [],
      "source": [
        "for time_bin_ in range(n_temporal_basis):\n    RF = strf_model.make_image_from_spatial_basis(\n        spatial_basis,\n        weights[range(time_bin_, n_spatial_basis * n_temporal_basis,\n                      n_temporal_basis)])\n    plt.subplot(1, n_temporal_basis, time_bin_ + 1)\n    plt.imshow(RF, cmap='Blues', interpolation='none')\n    titletext = str(centers[time_bin_])\n    plt.title(titletext)\n    plt.axis('off')\nplt.show()"
      ]
    }
  ],
  "metadata": {
    "kernelspec": {
      "display_name": "Python 3",
      "language": "python",
      "name": "python3"
    },
    "language_info": {
      "codemirror_mode": {
        "name": "ipython",
        "version": 3
      },
      "file_extension": ".py",
      "mimetype": "text/x-python",
      "name": "python",
      "nbconvert_exporter": "python",
      "pygments_lexer": "ipython3",
      "version": "3.7.4"
    }
  },
  "nbformat": 4,
  "nbformat_minor": 0
}