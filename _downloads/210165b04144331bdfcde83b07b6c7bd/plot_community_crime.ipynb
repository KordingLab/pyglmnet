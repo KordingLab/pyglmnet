{
  "cells": [
    {
      "cell_type": "code",
      "execution_count": null,
      "metadata": {
        "collapsed": false
      },
      "outputs": [],
      "source": [
        "%matplotlib inline"
      ]
    },
    {
      "cell_type": "markdown",
      "metadata": {},
      "source": [
        "\n# Community and Crime\n\n\nThis is a real dataset of per capita violent crime, with demographic\ndata comprising 128 attributes from 1994 counties in the US.\n\nThe original dataset can be found here:\nhttp://archive.ics.uci.edu/ml/datasets/Communities+and+Crime\n\nThe target variables (per capita violent crime) are normalized to lie in\na [0, 1] range. We preprocessed this dataset to exclude attributes with\nmissing values.\n"
      ]
    },
    {
      "cell_type": "code",
      "execution_count": null,
      "metadata": {
        "collapsed": false
      },
      "outputs": [],
      "source": [
        "# Author: Vinicius Marques <vini.type@gmail.com>\n# License: MIT"
      ]
    },
    {
      "cell_type": "markdown",
      "metadata": {},
      "source": [
        "Imports\n\n"
      ]
    },
    {
      "cell_type": "code",
      "execution_count": null,
      "metadata": {
        "collapsed": false
      },
      "outputs": [],
      "source": [
        "import matplotlib.pyplot as plt\nfrom sklearn.model_selection import train_test_split\nfrom pyglmnet import GLM, GLMCV, datasets"
      ]
    },
    {
      "cell_type": "markdown",
      "metadata": {},
      "source": [
        "Download and preprocess data files\n\n"
      ]
    },
    {
      "cell_type": "code",
      "execution_count": null,
      "metadata": {
        "collapsed": false
      },
      "outputs": [],
      "source": [
        "X, y = datasets.fetch_community_crime_data()\nn_samples, n_features = X.shape"
      ]
    },
    {
      "cell_type": "markdown",
      "metadata": {},
      "source": [
        "Split the data into training and test sets\n\n"
      ]
    },
    {
      "cell_type": "code",
      "execution_count": null,
      "metadata": {
        "collapsed": false
      },
      "outputs": [],
      "source": [
        "X_train, X_test, y_train, y_test = \\\n    train_test_split(X, y, test_size=0.33, random_state=0)"
      ]
    },
    {
      "cell_type": "markdown",
      "metadata": {},
      "source": [
        "Fit a binomial distributed GLM with elastic net regularization\n\n"
      ]
    },
    {
      "cell_type": "code",
      "execution_count": null,
      "metadata": {
        "collapsed": false
      },
      "outputs": [],
      "source": [
        "# use the default value for reg_lambda\nglm = GLMCV(distr='binomial', alpha=0.05, score_metric='pseudo_R2', cv=3,\n            tol=1e-4)\n\n# fit model\nglm.fit(X_train, y_train)\n\n# score the test set prediction\ny_test_hat = glm.predict_proba(X_test)\nprint(\"test set pseudo $R^2$ = %f\" % glm.score(X_test, y_test))"
      ]
    },
    {
      "cell_type": "markdown",
      "metadata": {},
      "source": [
        "Now use GridSearchCV to compare\n\n"
      ]
    },
    {
      "cell_type": "code",
      "execution_count": null,
      "metadata": {
        "collapsed": false
      },
      "outputs": [],
      "source": [
        "import numpy as np # noqa\nfrom sklearn.model_selection import GridSearchCV # noqa\nfrom sklearn.model_selection import KFold # noqa\n\ncv = KFold(3)\n\nreg_lambda = np.logspace(np.log(0.5), np.log(0.01), 10,\n                         base=np.exp(1))\nparam_grid = [{'reg_lambda': reg_lambda}]\n\nglm = GLM(distr='binomial', alpha=0.05, score_metric='pseudo_R2',\n          learning_rate=0.1, tol=1e-4, verbose=True)\nglmcv = GridSearchCV(glm, param_grid, cv=cv)\nglmcv.fit(X_train, y_train)\n\nprint(\"test set pseudo $R^2$ = %f\" % glmcv.score(X_test, y_test))"
      ]
    },
    {
      "cell_type": "markdown",
      "metadata": {},
      "source": [
        "Plot the true and predicted test set target values\n\n"
      ]
    },
    {
      "cell_type": "code",
      "execution_count": null,
      "metadata": {
        "collapsed": false
      },
      "outputs": [],
      "source": [
        "plt.plot(y_test[:50], 'ko-')\nplt.plot(y_test_hat[:50], 'ro-')\nplt.legend(['true', 'pred'], frameon=False)\nplt.xlabel('Counties')\nplt.ylabel('Per capita violent crime')\n\nplt.tick_params(axis='y', right='off')\nplt.tick_params(axis='x', top='off')\nax = plt.gca()\nax.spines['top'].set_visible(False)\nax.spines['right'].set_visible(False)\nplt.show()"
      ]
    }
  ],
  "metadata": {
    "kernelspec": {
      "display_name": "Python 3",
      "language": "python",
      "name": "python3"
    },
    "language_info": {
      "codemirror_mode": {
        "name": "ipython",
        "version": 3
      },
      "file_extension": ".py",
      "mimetype": "text/x-python",
      "name": "python",
      "nbconvert_exporter": "python",
      "pygments_lexer": "ipython3",
      "version": "3.7.4"
    }
  },
  "nbformat": 4,
  "nbformat_minor": 0
}