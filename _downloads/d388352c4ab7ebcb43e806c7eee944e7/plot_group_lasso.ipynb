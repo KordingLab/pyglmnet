{
  "cells": [
    {
      "cell_type": "code",
      "execution_count": null,
      "metadata": {
        "collapsed": false
      },
      "outputs": [],
      "source": [
        "%matplotlib inline"
      ]
    },
    {
      "cell_type": "markdown",
      "metadata": {},
      "source": [
        "\n# Group Lasso Regularization\n\n\nThis is an example demonstrating Pyglmnet with group lasso regularization,\ntypical in regression problems where it is reasonable to impose penalties\nto model parameters in a group-wise fashion based on domain knowledge.\n"
      ]
    },
    {
      "cell_type": "code",
      "execution_count": null,
      "metadata": {
        "collapsed": false
      },
      "outputs": [],
      "source": [
        "# Author: Matthew Antalek <matthew.antalek@northwestern.edu>\n# License: MIT"
      ]
    },
    {
      "cell_type": "code",
      "execution_count": null,
      "metadata": {
        "collapsed": false
      },
      "outputs": [],
      "source": [
        "from pyglmnet import GLMCV\nfrom pyglmnet.datasets import fetch_group_lasso_datasets\nimport matplotlib.pyplot as plt"
      ]
    },
    {
      "cell_type": "markdown",
      "metadata": {},
      "source": [
        "Group Lasso Example\napplied to the same dataset found in:\nftp://ftp.stat.math.ethz.ch/Manuscripts/buhlmann/lukas-sara-peter.pdf\n\nThe task here is to determine which base pairs and positions within a 7-mer\nsequence are predictive of whether the sequence contains a splice\nsite or not.\n\n\n"
      ]
    },
    {
      "cell_type": "markdown",
      "metadata": {},
      "source": [
        "Read and preprocess data\n\n"
      ]
    },
    {
      "cell_type": "code",
      "execution_count": null,
      "metadata": {
        "collapsed": false
      },
      "outputs": [],
      "source": [
        "df, group_idxs = fetch_group_lasso_datasets()\nprint(df.head())"
      ]
    },
    {
      "cell_type": "markdown",
      "metadata": {},
      "source": [
        "Set up the training and testing sets\n\n"
      ]
    },
    {
      "cell_type": "code",
      "execution_count": null,
      "metadata": {
        "collapsed": false
      },
      "outputs": [],
      "source": [
        "from sklearn.model_selection import train_test_split # noqa\n\nX = df[df.columns.difference([\"Label\"])].values\ny = df.loc[:, \"Label\"].values\n\nXtrain, Xtest, ytrain, ytest = \\\n    train_test_split(X, y, test_size=0.2, random_state=42)"
      ]
    },
    {
      "cell_type": "markdown",
      "metadata": {},
      "source": [
        "Setup the models\n\n"
      ]
    },
    {
      "cell_type": "code",
      "execution_count": null,
      "metadata": {
        "collapsed": false
      },
      "outputs": [],
      "source": [
        "# set up the group lasso GLM model\ngl_glm = GLMCV(distr=\"binomial\", tol=1e-3,\n               group=group_idxs, score_metric=\"pseudo_R2\",\n               alpha=1.0, learning_rate=3, max_iter=100, cv=3, verbose=True)\n\n\n# set up the lasso model\nglm = GLMCV(distr=\"binomial\", tol=1e-3,\n            score_metric=\"pseudo_R2\",\n            alpha=1.0, learning_rate=3, max_iter=100, cv=3, verbose=True)\n\nprint(\"gl_glm: \", gl_glm)\nprint(\"glm: \", glm)"
      ]
    },
    {
      "cell_type": "markdown",
      "metadata": {},
      "source": [
        "Fit models\n\n"
      ]
    },
    {
      "cell_type": "code",
      "execution_count": null,
      "metadata": {
        "collapsed": false
      },
      "outputs": [],
      "source": [
        "gl_glm.fit(Xtrain, ytrain)\nglm.fit(Xtrain, ytrain)"
      ]
    },
    {
      "cell_type": "markdown",
      "metadata": {},
      "source": [
        "Visualize model scores on test set\n\n"
      ]
    },
    {
      "cell_type": "code",
      "execution_count": null,
      "metadata": {
        "collapsed": false
      },
      "outputs": [],
      "source": [
        "plt.figure()\nplt.semilogx(gl_glm.reg_lambda, gl_glm.scores_, 'go-')\nplt.semilogx(glm.reg_lambda, glm.scores_, 'ro--')\nplt.legend(['Group Lasso', 'Lasso'], frameon=False,\n           loc='best')\nplt.xlabel('$\\lambda$')\nplt.ylabel('pseudo-$R^2$')\n\nplt.tick_params(axis='y', right='off')\nplt.tick_params(axis='x', top='off')\nax = plt.gca()\nax.spines['top'].set_visible(False)\nax.spines['right'].set_visible(False)\nplt.show()"
      ]
    }
  ],
  "metadata": {
    "kernelspec": {
      "display_name": "Python 3",
      "language": "python",
      "name": "python3"
    },
    "language_info": {
      "codemirror_mode": {
        "name": "ipython",
        "version": 3
      },
      "file_extension": ".py",
      "mimetype": "text/x-python",
      "name": "python",
      "nbconvert_exporter": "python",
      "pygments_lexer": "ipython3",
      "version": "3.7.4"
    }
  },
  "nbformat": 4,
  "nbformat_minor": 0
}